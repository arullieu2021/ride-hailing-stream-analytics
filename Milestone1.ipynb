{
  "nbformat": 4,
  "nbformat_minor": 0,
  "metadata": {
    "colab": {
      "provenance": []
    },
    "kernelspec": {
      "name": "python3",
      "display_name": "Python 3"
    },
    "language_info": {
      "name": "python"
    }
  },
  "cells": [
    {
      "cell_type": "code",
      "source": [
        "!pip install fastavro faker"
      ],
      "metadata": {
        "colab": {
          "base_uri": "https://localhost:8080/"
        },
        "id": "3vHUbHHPNfgH",
        "outputId": "3971a32c-5dbd-4800-a7fc-11271e240dcc"
      },
      "execution_count": null,
      "outputs": [
        {
          "output_type": "stream",
          "name": "stdout",
          "text": [
            "Collecting fastavro\n",
            "  Downloading fastavro-1.10.0-cp311-cp311-manylinux_2_17_x86_64.manylinux2014_x86_64.whl.metadata (5.5 kB)\n",
            "Collecting faker\n",
            "  Downloading faker-37.0.0-py3-none-any.whl.metadata (15 kB)\n",
            "Requirement already satisfied: tzdata in /usr/local/lib/python3.11/dist-packages (from faker) (2025.1)\n",
            "Downloading fastavro-1.10.0-cp311-cp311-manylinux_2_17_x86_64.manylinux2014_x86_64.whl (3.3 MB)\n",
            "\u001b[2K   \u001b[90m━━━━━━━━━━━━━━━━━━━━━━━━━━━━━━━━━━━━━━━━\u001b[0m \u001b[32m3.3/3.3 MB\u001b[0m \u001b[31m11.8 MB/s\u001b[0m eta \u001b[36m0:00:00\u001b[0m\n",
            "\u001b[?25hDownloading faker-37.0.0-py3-none-any.whl (1.9 MB)\n",
            "\u001b[2K   \u001b[90m━━━━━━━━━━━━━━━━━━━━━━━━━━━━━━━━━━━━━━━━\u001b[0m \u001b[32m1.9/1.9 MB\u001b[0m \u001b[31m34.3 MB/s\u001b[0m eta \u001b[36m0:00:00\u001b[0m\n",
            "\u001b[?25hInstalling collected packages: fastavro, faker\n",
            "Successfully installed faker-37.0.0 fastavro-1.10.0\n"
          ]
        }
      ]
    },
    {
      "cell_type": "code",
      "source": [
        "import json\n",
        "import random\n",
        "import fastavro\n",
        "import datetime\n",
        "from faker import Faker\n",
        "\n",
        "fake = Faker()\n",
        "\n",
        "# AVRO schemas ANNA & ANITA\n",
        "ride_request_schema = {\n",
        "    \"type\": \"record\",\n",
        "    \"name\": \"RideRequest\",\n",
        "    \"fields\": [\n",
        "        {\"name\": \"user_id\", \"type\": \"string\"},\n",
        "        {\"name\": \"pickup_location\", \"type\": \"string\"},\n",
        "        {\"name\": \"destination\", \"type\": \"string\"},\n",
        "        {\"name\": \"timestamp\", \"type\": \"string\"},\n",
        "        {\"name\": \"status\", \"type\": {\"type\": \"enum\", \"name\": \"Status\", \"symbols\": [\"requested\", \"cancelled\", \"accepted\", \"ongoing\", \"completed\"]}},\n",
        "        {\"name\": \"price\", \"type\": \"double\", \"default\": 0.0}\n",
        "    ]\n",
        "}\n",
        "\n",
        "driver_availability_schema = {\n",
        "    \"type\": \"record\",\n",
        "    \"name\": \"DriverAvailability\",\n",
        "    \"fields\": [\n",
        "        {\"name\": \"driver_id\", \"type\": \"string\"},\n",
        "        {\"name\": \"location\", \"type\": \"string\"},\n",
        "        {\"name\": \"status\", \"type\": {\"type\": \"enum\", \"name\": \"DriverStatus\", \"symbols\": [\"available\", \"busy\"]}},\n",
        "        {\"name\": \"timestamp\", \"type\": \"string\"}\n",
        "    ]\n",
        "}\n",
        "\n",
        "# Function to generate ride requests MARIA\n",
        "def generate_ride_request(n=100):\n",
        "    requests = []\n",
        "    statuses = [\"requested\", \"cancelled\", \"accepted\", \"ongoing\", \"completed\"]\n",
        "\n",
        "    for _ in range(n):\n",
        "        status = random.choice(statuses)\n",
        "\n",
        "        start_time = datetime.datetime.utcnow()\n",
        "        end_time = start_time + datetime.timedelta(minutes=random.randint(5, 45)) if status in [\"ongoing\", \"completed\"] else None\n",
        "\n",
        "        request = {\n",
        "            \"user_id\": fake.uuid4(),\n",
        "            \"pickup_location\": fake.city(),\n",
        "            \"destination\": fake.city(),\n",
        "            \"timestamp\": start_time.isoformat(),\n",
        "            \"status\": status,\n",
        "            \"price\": round(random.uniform(5, 50), 2)\n",
        "        }\n",
        "        requests.append(request)\n",
        "    return requests\n",
        "\n",
        "# Function to generate driver availability updates NORA\n",
        "def generate_driver_availability(n=50):\n",
        "    availabilities = []\n",
        "    statuses = [\"available\", \"busy\"]\n",
        "\n",
        "    for _ in range(n):\n",
        "        availability = {\n",
        "            \"driver_id\": fake.uuid4(),\n",
        "            \"location\": fake.city(),\n",
        "            \"status\": random.choice(statuses),\n",
        "            \"timestamp\": datetime.datetime.utcnow().isoformat()\n",
        "        }\n",
        "        availabilities.append(availability)\n",
        "    return availabilities\n",
        "\n",
        "# JSON and AVRO formats CRIS\n",
        "def save_data(data, schema, filename):\n",
        "    json_filename = f\"{filename}.json\"\n",
        "    avro_filename = f\"{filename}.avro\"\n",
        "\n",
        "    with open(json_filename, \"w\") as json_file:\n",
        "        json.dump(data, json_file, indent=4)\n",
        "\n",
        "    with open(avro_filename, \"wb\") as avro_file:\n",
        "        fastavro.writer(avro_file, schema, data)\n",
        "\n",
        "    print(f\"Data saved: {json_filename}, {avro_filename}\")\n",
        "\n",
        "ride_requests = generate_ride_request(200)\n",
        "driver_availabilities = generate_driver_availability(100)\n",
        "\n",
        "save_data(ride_requests, ride_request_schema, \"ride_requests\")\n",
        "save_data(driver_availabilities, driver_availability_schema, \"driver_availability\")\n"
      ],
      "metadata": {
        "colab": {
          "base_uri": "https://localhost:8080/"
        },
        "id": "vkROCTpJZJQ8",
        "outputId": "25139a55-2d22-464f-d33d-4f91247ef410"
      },
      "execution_count": null,
      "outputs": [
        {
          "output_type": "stream",
          "name": "stdout",
          "text": [
            "Data saved: ride_requests.json, ride_requests.avro\n",
            "Data saved: driver_availability.json, driver_availability.avro\n"
          ]
        }
      ]
    },
    {
      "cell_type": "code",
      "source": [
        "file_path = \"ride_requests.avro\"\n",
        "\n",
        "records = []\n",
        "with open(file_path, \"rb\") as avro_file:\n",
        "    reader = fastavro.reader(avro_file)\n",
        "    for record in reader:\n",
        "        records.append(record)\n",
        "\n",
        "for record in records[:10]:\n",
        "    print(record)"
      ],
      "metadata": {
        "colab": {
          "base_uri": "https://localhost:8080/"
        },
        "id": "cPDCpzrBOkId",
        "outputId": "85d00aed-c8ae-4835-ebbd-e207477dc4b7"
      },
      "execution_count": null,
      "outputs": [
        {
          "output_type": "stream",
          "name": "stdout",
          "text": [
            "{'user_id': '77d96da2-46cd-43c7-86e4-8b14c3900c0a', 'pickup_location': 'Jameschester', 'destination': 'Lake Christopher', 'timestamp': '2025-03-16T15:51:11.230331', 'status': 'cancelled', 'price': 48.18}\n",
            "{'user_id': '3b7d2387-9bae-4283-8a6f-3c6bcbddc2f8', 'pickup_location': 'Port Derekbury', 'destination': 'Sarahhaven', 'timestamp': '2025-03-16T15:51:11.230671', 'status': 'completed', 'price': 41.69}\n",
            "{'user_id': 'd4eb647d-7fcb-46cb-a2f5-a9afe9a3803b', 'pickup_location': 'Elizabethfurt', 'destination': 'West Chloe', 'timestamp': '2025-03-16T15:51:11.230870', 'status': 'completed', 'price': 13.13}\n",
            "{'user_id': 'b10d6fea-65be-4a64-96cc-d32a1ee5397e', 'pickup_location': 'New Lisa', 'destination': 'South Sheenastad', 'timestamp': '2025-03-16T15:51:11.231055', 'status': 'ongoing', 'price': 10.78}\n",
            "{'user_id': '2c5e76ff-a31c-4047-9f24-8caea97b933c', 'pickup_location': 'Catherinehaven', 'destination': 'West Dianeberg', 'timestamp': '2025-03-16T15:51:11.231235', 'status': 'ongoing', 'price': 23.43}\n",
            "{'user_id': '7b50ece5-6468-4100-bd6b-543f88f5b25c', 'pickup_location': 'South Markview', 'destination': 'Port Anna', 'timestamp': '2025-03-16T15:51:11.231389', 'status': 'cancelled', 'price': 32.93}\n",
            "{'user_id': 'fddee488-e82b-4f83-b9e7-b8d0e5cc0e1c', 'pickup_location': 'Lake Danielborough', 'destination': 'North Caroline', 'timestamp': '2025-03-16T15:51:11.231533', 'status': 'cancelled', 'price': 31.15}\n",
            "{'user_id': '0d703652-91e7-46a3-b3c3-b88c2db261cf', 'pickup_location': 'Schultztown', 'destination': 'Port Jamesburgh', 'timestamp': '2025-03-16T15:51:11.231693', 'status': 'ongoing', 'price': 47.66}\n",
            "{'user_id': '49c8bb52-9b64-4c44-b8b6-c103825d4579', 'pickup_location': 'Susanburgh', 'destination': 'West Chase', 'timestamp': '2025-03-16T15:51:11.231945', 'status': 'accepted', 'price': 36.74}\n",
            "{'user_id': '5d214546-a9d9-41cc-b13d-fe6d41956b74', 'pickup_location': 'Lesliestad', 'destination': 'Hernandezshire', 'timestamp': '2025-03-16T15:51:11.232107', 'status': 'requested', 'price': 46.4}\n"
          ]
        }
      ]
    },
    {
      "cell_type": "code",
      "source": [
        "import fastavro\n",
        "\n",
        "file_path = \"driver_availability.avro\"\n",
        "\n",
        "records = []\n",
        "with open(file_path, \"rb\") as avro_file:\n",
        "    reader = fastavro.reader(avro_file)\n",
        "    for record in reader:\n",
        "        records.append(record)\n",
        "\n",
        "for record in records[:10]:\n",
        "    print(record)"
      ],
      "metadata": {
        "colab": {
          "base_uri": "https://localhost:8080/"
        },
        "id": "Hlzc9quYmX83",
        "outputId": "f1628f1b-5620-4161-99d6-b9a66f85ee9e"
      },
      "execution_count": null,
      "outputs": [
        {
          "output_type": "stream",
          "name": "stdout",
          "text": [
            "{'driver_id': '3b35012e-b414-41a5-af2f-3824136f4bd0', 'location': 'New Emily', 'status': 'busy', 'timestamp': '2025-03-16T15:51:11.264718'}\n",
            "{'driver_id': 'd78606b5-b50f-47ce-9067-d1478ff751e8', 'location': 'Christophermouth', 'status': 'available', 'timestamp': '2025-03-16T15:51:11.264798'}\n",
            "{'driver_id': 'f2fe4925-f84d-459d-ac0f-b0bad24e415d', 'location': 'Melendezside', 'status': 'busy', 'timestamp': '2025-03-16T15:51:11.264902'}\n",
            "{'driver_id': 'bbc8fd47-5ca0-42fd-9d7b-23d931fb57bf', 'location': 'North Brandon', 'status': 'busy', 'timestamp': '2025-03-16T15:51:11.264975'}\n",
            "{'driver_id': '9cb987c2-da7b-4812-962d-18090cace863', 'location': 'Brandyport', 'status': 'available', 'timestamp': '2025-03-16T15:51:11.265065'}\n",
            "{'driver_id': 'af213e2a-c823-49b5-9480-31dcacecbf5b', 'location': 'Meyerhaven', 'status': 'busy', 'timestamp': '2025-03-16T15:51:11.265171'}\n",
            "{'driver_id': 'fb97940c-8f4a-4c9b-8b25-b44a1965f0ac', 'location': 'South David', 'status': 'available', 'timestamp': '2025-03-16T15:51:11.265246'}\n",
            "{'driver_id': '441e5d5a-31a1-4c2e-94e7-afc3764594b4', 'location': 'Port Emily', 'status': 'busy', 'timestamp': '2025-03-16T15:51:11.265321'}\n",
            "{'driver_id': 'e2e9890e-1831-4918-9c32-07eb97b6990d', 'location': 'Wrightview', 'status': 'available', 'timestamp': '2025-03-16T15:51:11.265417'}\n",
            "{'driver_id': 'ee54c07f-634e-4e47-91b2-5628317e64ef', 'location': 'Port Brenda', 'status': 'busy', 'timestamp': '2025-03-16T15:51:11.265490'}\n"
          ]
        }
      ]
    }
  ]
}